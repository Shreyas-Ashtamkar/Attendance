{
 "cells": [
  {
   "cell_type": "code",
   "execution_count": 1,
   "metadata": {},
   "outputs": [],
   "source": [
    "# Globally Usable System Libraries\n",
    "from copy import deepcopy\n",
    "\n",
    "#Self Created Libraries to Read Values and Compare Values.\n",
    "from myCSVOperations import readColumn\n",
    "from isSame import isSame\n",
    "\n",
    "#Self Created ictionaries Mapping the Roll Numbers to Names as per College Sheets\n",
    "from BE_A import BE_A\n",
    "from BE_B import BE_B"
   ]
  },
  {
   "cell_type": "code",
   "execution_count": 2,
   "metadata": {},
   "outputs": [],
   "source": [
    "#Read the Complete List of all the Students in the Meeting\n",
    "All_Students = readColumn('attendance.csv', columnNo=1, skipRows=2)\n",
    "\n",
    "#Sorting It\n",
    "All_Students.sort()\n",
    "\n",
    "#Mark all students as Absent.\n",
    "#If a Student is Present then Remove from the List\n",
    "BE_A_ABSENT = deepcopy(BE_A)\n",
    "BE_B_ABSENT = deepcopy(BE_B)\n",
    "\n",
    "# All the Students who have Logged in from\n",
    "# some other Account, as well as the Candidates Not in the Provided Lists.\n",
    "BE_Unidentified = []"
   ]
  },
  {
   "cell_type": "code",
   "execution_count": 7,
   "metadata": {},
   "outputs": [],
   "source": [
    "#Pretty Printing Dicitionary\n",
    "def prettyPrint(data:dict):\n",
    "    for val in data:\n",
    "        print(f'{val:30} ==> {data[val]}')"
   ]
  },
  {
   "cell_type": "code",
   "execution_count": 4,
   "metadata": {},
   "outputs": [],
   "source": [
    "for presentStudent in All_Students:\n",
    "    \n",
    "    found = False\n",
    "    \n",
    "    for student in BE_A:\n",
    "        if found: break\n",
    "        similarity = isSame(student, presentStudent)\n",
    "        if similarity == 'YES':\n",
    "            if student in BE_A_ABSENT:\n",
    "                BE_A_ABSENT.pop(student)\n",
    "            found = True\n",
    "    \n",
    "    for student in BE_B:\n",
    "        if found: break\n",
    "        similarity = isSame(student, presentStudent)\n",
    "        if similarity == 'YES':\n",
    "            if student in BE_B_ABSENT:\n",
    "                BE_B_ABSENT.pop(student)\n",
    "            found = True\n",
    "    \n",
    "    if not found:\n",
    "        BE_Unidentified.append(presentStudent)"
   ]
  },
  {
   "cell_type": "code",
   "execution_count": 8,
   "metadata": {
    "scrolled": true
   },
   "outputs": [
    {
     "name": "stdout",
     "output_type": "stream",
     "text": [
      "\n",
      "\n",
      "________________ BE_A __________________\n",
      "\n",
      "\n",
      "________________ BE_B __________________\n",
      "\n",
      "\n",
      "________________ BE_B __________________\n"
     ]
    }
   ],
   "source": [
    "print(\"\\n\\n________________ BE_A __________________\")\n",
    "prettyPrint(BE_A_ABSENT)\n",
    "print(\"\\n\\n________________ BE_B __________________\")\n",
    "prettyPrint(BE_B_ABSENT)\n",
    "print(\"\\n\\n________________ BE_B __________________\")\n",
    "prettyPrint(BE_B_ABSENT)"
   ]
  },
  {
   "cell_type": "code",
   "execution_count": 6,
   "metadata": {
    "scrolled": true
   },
   "outputs": [
    {
     "data": {
      "text/plain": [
       "['Sanket Gilbile',\n",
       " 'aditya utpat',\n",
       " 'akanksha apar',\n",
       " 'akanksha bhase',\n",
       " 'akanksha kale',\n",
       " 'amol gholve',\n",
       " 'amruta kulkarni',\n",
       " 'ankita jadhav',\n",
       " 'anuja kulkarni',\n",
       " 'anushka arunkumar',\n",
       " 'anushree patil',\n",
       " 'apurva more',\n",
       " 'aryan sahane',\n",
       " 'bharati makar',\n",
       " 'darshana hallikhede',\n",
       " 'dhananjay indore',\n",
       " 'diksha jadhav',\n",
       " 'dina kanjwani',\n",
       " 'dipali rangat',\n",
       " 'divya patil',\n",
       " 'ganesh gore',\n",
       " 'gaurav patil',\n",
       " 'harsha bhakare',\n",
       " 'jyoti chandanshive',\n",
       " 'karina maiyani',\n",
       " 'kedar pokharkar',\n",
       " 'khalid sayyed',\n",
       " 'kulkarni anuja',\n",
       " 'kunal kale',\n",
       " 'kunal nilakhe',\n",
       " 'lata jeswani',\n",
       " 'lokesh kuril',\n",
       " 'lubdha nehete',\n",
       " 'madhavi sawant',\n",
       " 'madhura kenjale',\n",
       " 'mayur kashid',\n",
       " 'minal sonawane',\n",
       " 'mitali chaudhari',\n",
       " 'monali gangane',\n",
       " 'mounika buddharaju',\n",
       " 'namrata londhe',\n",
       " 'neeraj rajeevan',\n",
       " 'neha kshirsagar',\n",
       " 'nikhilkumar wattamwar',\n",
       " 'nikita kaspate',\n",
       " 'nikita mandekar',\n",
       " 'nikita patil',\n",
       " 'nilesh baviskar',\n",
       " 'omkar bhopi',\n",
       " 'omkar patil',\n",
       " 'payal waghole',\n",
       " 'pooja mote',\n",
       " 'pracheta jain',\n",
       " 'prachi p',\n",
       " 'prachi panchabhai',\n",
       " 'pradnya komte',\n",
       " 'prajakta khade',\n",
       " 'prajakta khude',\n",
       " 'pranali chavan',\n",
       " 'prashant vidhate',\n",
       " 'prathmesh patil',\n",
       " 'priyanka patil',\n",
       " 'rashmi borgave',\n",
       " 'ravina khalge',\n",
       " 'rijwana shaikh',\n",
       " 'rohini more',\n",
       " 'sahil vidwans',\n",
       " 'saisha mhala',\n",
       " 'sayali padale',\n",
       " 'sayali waghmare',\n",
       " 'shankar naikwadi',\n",
       " 'shantanu dudhane',\n",
       " 'sharvari ghatake',\n",
       " 'sharvari ghatake',\n",
       " 'shivani bijamwar',\n",
       " 'shivani deshmukh',\n",
       " 'shraddha gore',\n",
       " 'shraddha toraskar',\n",
       " 'shreeya chavan',\n",
       " 'shreya kshirsagar',\n",
       " 'shreyas ashtamkar',\n",
       " 'shreyas ashtamkar',\n",
       " 'shruti dharpale',\n",
       " 'shruti khedkar',\n",
       " 'shruti kolte',\n",
       " 'shruti salunke',\n",
       " 'shubham gharde',\n",
       " 'shubham sonawane',\n",
       " 'siddhesh pawar',\n",
       " 'siddhi paiyawal',\n",
       " 'siddhi shingite',\n",
       " 'smriti kumari',\n",
       " 'sukruta godse',\n",
       " 'supriya choragi',\n",
       " 'supriya sargar',\n",
       " 'swapnil bhalerao',\n",
       " 'swarali shah',\n",
       " 'tejal sakhare',\n",
       " 'vaishali barkade',\n",
       " 'vaishnavi badwe',\n",
       " 'vaishnavi bankar',\n",
       " 'vaishnavi ghodke',\n",
       " 'vedika yadav',\n",
       " 'vikram patil',\n",
       " 'vinayak tilekar',\n",
       " 'vivek palkhe',\n",
       " 'yash gaikwad',\n",
       " 'yash kashid',\n",
       " 'yash pradhan',\n",
       " 'yojana jagtap']"
      ]
     },
     "execution_count": 6,
     "metadata": {},
     "output_type": "execute_result"
    }
   ],
   "source": []
  },
  {
   "cell_type": "code",
   "execution_count": 16,
   "metadata": {},
   "outputs": [],
   "source": []
  },
  {
   "cell_type": "code",
   "execution_count": null,
   "metadata": {},
   "outputs": [],
   "source": []
  }
 ],
 "metadata": {
  "kernelspec": {
   "display_name": "Python 3.7.3 64-bit",
   "language": "python",
   "name": "python37364bit7f799a5155e3410bb9e9d64c981b7df2"
  },
  "language_info": {
   "codemirror_mode": {
    "name": "ipython",
    "version": 3
   },
   "file_extension": ".py",
   "mimetype": "text/x-python",
   "name": "python",
   "nbconvert_exporter": "python",
   "pygments_lexer": "ipython3",
   "version": "3.7.3"
  }
 },
 "nbformat": 4,
 "nbformat_minor": 4
}
