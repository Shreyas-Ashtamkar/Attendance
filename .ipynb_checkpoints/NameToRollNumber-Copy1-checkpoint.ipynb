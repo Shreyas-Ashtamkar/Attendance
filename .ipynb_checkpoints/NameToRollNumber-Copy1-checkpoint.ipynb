{
 "cells": [
  {
   "cell_type": "code",
   "execution_count": 13,
   "metadata": {},
   "outputs": [],
   "source": [
    "def readColumn(fileName:str=None, columnNo:int=1, sep:str=',', skipRows:int=-1):\n",
    "    columnValues = []\n",
    "    \n",
    "    if fileName == None: \n",
    "        print(\"< Min - Usage : varName = readColumn(fileName) >\")\n",
    "    \n",
    "    try:\n",
    "        columnValues = []\n",
    "\n",
    "        inpFile = open(fileName)\n",
    "\n",
    "        for l in range(skipRows+1):\n",
    "            inpFile.readline()\n",
    "\n",
    "        while True:\n",
    "            line = inpFile.readline().strip().split(sep)\n",
    "            if line == ['']:\n",
    "                break\n",
    "            else:\n",
    "                columnValues.append(line[columnNo-1])\n",
    "\n",
    "        inpFile.close()\n",
    "    except Exception as e:\n",
    "        print(\"Error Occured. Please check your Arguments again.\")\n",
    "    \n",
    "    return columnValues"
   ]
  },
  {
   "cell_type": "code",
   "execution_count": 14,
   "metadata": {},
   "outputs": [],
   "source": [
    "# BE_A_Names = readColumn('BE_A.csv', columnNo=3, skipRows=3)\n",
    "# BE_A_Rolls = readColumn('BE_A.csv', columnNo=2, skipRows=3)\n",
    "\n",
    "# BE_A = {}\n",
    "\n",
    "# # print(\"BE_A = {\")\n",
    "# # for roll, student in enumerate(BE_A_Names):\n",
    "# #     print(f\"'{student}':'{BE_A_Rolls[roll]:5}',\")\n",
    "# # print(\"}\")"
   ]
  },
  {
   "cell_type": "code",
   "execution_count": 15,
   "metadata": {},
   "outputs": [],
   "source": [
    "def isSame(firstName:str, secondName:str):\n",
    "    similarity = 0\n",
    "    \n",
    "    firstNameParts = firstName.split(' ')\n",
    "    secondNameParts = secondName.split(' ')\n",
    "    \n",
    "    for partFirst in firstNameParts:\n",
    "        for partSecond in secondNameParts:\n",
    "            if partFirst.lower() == partSecond.lower():\n",
    "                similarity += 1\n",
    "    \n",
    "    returnValue = {\n",
    "        0 : 'NO',\n",
    "        1 : 'MAYBE',\n",
    "        2 : 'YES'\n",
    "    }\n",
    "    \n",
    "    return returnValue[similarity]"
   ]
  },
  {
   "cell_type": "code",
   "execution_count": 16,
   "metadata": {
    "tags": []
   },
   "outputs": [
    {
     "name": "stdout",
     "output_type": "stream",
     "text": [
      "['shreyas ashtamkar', 'aditya utpat', 'akanksha apar', 'akanksha kale', 'amol gholve', 'ankita jadhav', 'anushka arunkumar', 'anushree patil', 'apurva more', 'aryan sahane', 'bharati makar', 'darshana hallikhede', 'dhananjay indore', 'diksha jadhav', 'dipali rangat', 'divya patil', 'ganesh gore', 'shruti kolte', 'shruti salunke', 'shubham gharde', 'shubham sonawane', 'siddhesh pawar', 'siddhi paiyawal', 'siddhi shingite', 'smriti kumari', 'supriya choragi', 'supriya sargar', 'swarali shah', 'vaishali barkade', 'vaishnavi badwe', 'vaishnavi bankar', 'vaishnavi ghodke', 'vikram patil', 'vinayak tilekar', 'vivek palkhe', 'yash gaikwad', 'yash kashid', 'yash pradhan', 'yojana jagtap', 'shreya kshirsagar', 'shreyas ashtamkar', 'shruti dharpale', 'shruti khedkar', 'shivani bijamwar', 'shivani deshmukh', 'shraddha gore', 'shraddha toraskar', 'shreeya chavan', 'sayali waghmare', 'shankar naikwadi', 'shantanu dudhane', 'sharvari ghatake', 'rijwana shaikh', 'rohini more', 'saisha mhala', 'Sanket Gilbile', 'sayali padale', 'pranali chavan', 'prashant vidhate', 'prathmesh patil', 'priyanka patil', 'rashmi borgave', 'ravina khalge', 'prachi p', 'pradnya komte', 'prajakta khude', 'nikita patil', 'nilesh baviskar', 'omkar bhopi', 'payal waghole', 'pooja mote', 'pracheta jain', 'neha kshirsagar', 'nikhilkumar wattamwar', 'nikita kaspate', 'minal sonawane', 'mitali chaudhari', 'monali gangane', 'mounika buddharaju', 'namrata londhe', 'lokesh kuril', 'lubdha nehete', 'madhavi sawant', 'madhura kenjale', 'kedar pokharkar', 'khalid sayyed', 'kulkarni anuja', 'kunal nilakhe', 'lata jeswani', 'gaurav patil', 'jyoti chandanshive', 'karina maiyani', 'prajakta khade', 'mayur kashid', 'swapnil bhalerao', 'amruta kulkarni', 'neeraj rajeevan', 'sahil vidwans', 'anuja kulkarni', 'prachi panchabhai', 'omkar patil', 'kunal kale', 'sharvari ghatake', 'vedika yadav', 'tejal sakhare', 'akanksha bhase', 'sukruta godse', 'dina kanjwani', 'harsha bhakare', 'nikita mandekar']\n"
     ]
    }
   ],
   "source": [
    "BE_All_Students = readColumn('attendance.csv', columnNo=1, skipRows=2)\n",
    "print(BE_All_Students)"
   ]
  },
  {
   "cell_type": "code",
   "execution_count": 17,
   "metadata": {},
   "outputs": [
    {
     "ename": "KeyError",
     "evalue": "'KULKARNI ANUJA SHRINIVAS'",
     "output_type": "error",
     "traceback": [
      "\u001b[0;31m---------------------------------------------------------------------------\u001b[0m",
      "\u001b[0;31mKeyError\u001b[0m                                  Traceback (most recent call last)",
      "\u001b[0;32m<ipython-input-17-4a40b5cdd4cf>\u001b[0m in \u001b[0;36m<module>\u001b[0;34m\u001b[0m\n\u001b[1;32m     20\u001b[0m         \u001b[0msimilarity\u001b[0m \u001b[0;34m=\u001b[0m \u001b[0misSame\u001b[0m\u001b[0;34m(\u001b[0m\u001b[0mstudent\u001b[0m\u001b[0;34m,\u001b[0m \u001b[0mpresentStudent\u001b[0m\u001b[0;34m)\u001b[0m\u001b[0;34m\u001b[0m\u001b[0;34m\u001b[0m\u001b[0m\n\u001b[1;32m     21\u001b[0m         \u001b[0;32mif\u001b[0m \u001b[0msimilarity\u001b[0m \u001b[0;34m==\u001b[0m \u001b[0;34m'YES'\u001b[0m\u001b[0;34m:\u001b[0m\u001b[0;34m\u001b[0m\u001b[0;34m\u001b[0m\u001b[0m\n\u001b[0;32m---> 22\u001b[0;31m             \u001b[0mBE_B_ABSENT\u001b[0m\u001b[0;34m.\u001b[0m\u001b[0mpop\u001b[0m\u001b[0;34m(\u001b[0m\u001b[0mstudent\u001b[0m\u001b[0;34m)\u001b[0m\u001b[0;34m\u001b[0m\u001b[0;34m\u001b[0m\u001b[0m\n\u001b[0m\u001b[1;32m     23\u001b[0m             \u001b[0mfound\u001b[0m \u001b[0;34m=\u001b[0m \u001b[0;32mTrue\u001b[0m\u001b[0;34m\u001b[0m\u001b[0;34m\u001b[0m\u001b[0m\n\u001b[1;32m     24\u001b[0m \u001b[0;34m\u001b[0m\u001b[0m\n",
      "\u001b[0;31mKeyError\u001b[0m: 'KULKARNI ANUJA SHRINIVAS'"
     ]
    }
   ],
   "source": [
    "from BE_A import BE_A\n",
    "from BE_B import BE_B\n",
    "\n",
    "from copy import deepcopy\n",
    "\n",
    "BE_A_ABSENT = deepcopy(BE_A)\n",
    "BE_B_ABSENT = deepcopy(BE_B)\n",
    "BE_Unidentified = []\n",
    "\n",
    "for presentStudent in BE_All_Students:\n",
    "    found = False\n",
    "    for student in BE_A:\n",
    "        if found: break\n",
    "        similarity = isSame(student, presentStudent)\n",
    "        if similarity == 'YES':\n",
    "            BE_A_ABSENT.pop(student)\n",
    "            found = True\n",
    "    for student in BE_B:\n",
    "        if found: break\n",
    "        similarity = isSame(student, presentStudent)\n",
    "        if similarity == 'YES':\n",
    "            BE_B_ABSENT.pop(student)\n",
    "            found = True\n",
    "    \n",
    "    if not found:\n",
    "        BE_Unidentified.append(presentStudent)"
   ]
  },
  {
   "cell_type": "code",
   "execution_count": 18,
   "metadata": {},
   "outputs": [
    {
     "ename": "KeyError",
     "evalue": "'KULKARNI ANUJA SHRINIVAS'",
     "output_type": "error",
     "traceback": [
      "\u001b[0;31m---------------------------------------------------------------------------\u001b[0m",
      "\u001b[0;31mKeyError\u001b[0m                                  Traceback (most recent call last)",
      "\u001b[0;32m<ipython-input-18-dc343a09e1b3>\u001b[0m in \u001b[0;36m<module>\u001b[0;34m\u001b[0m\n\u001b[0;32m----> 1\u001b[0;31m \u001b[0mBE_B_ABSENT\u001b[0m\u001b[0;34m[\u001b[0m\u001b[0mstudent\u001b[0m\u001b[0;34m]\u001b[0m\u001b[0;34m\u001b[0m\u001b[0;34m\u001b[0m\u001b[0m\n\u001b[0m",
      "\u001b[0;31mKeyError\u001b[0m: 'KULKARNI ANUJA SHRINIVAS'"
     ]
    }
   ],
   "source": [
    "BE_B_ABSENT[student]"
   ]
  },
  {
   "cell_type": "code",
   "execution_count": 12,
   "metadata": {
    "tags": []
   },
   "outputs": [
    {
     "name": "stdout",
     "output_type": "stream",
     "text": [
      "3\n"
     ]
    }
   ],
   "source": [
    "for i, a in enumerate( BE_B ):\n",
    "    \n",
    "    if a == 'KULKARNI ANUJA SHRINIVAS':\n",
    "        print(i)\n",
    "        break\n"
   ]
  },
  {
   "cell_type": "code",
   "execution_count": 19,
   "metadata": {},
   "outputs": [
    {
     "data": {
      "text/plain": [
       "{'SHINDE ROHAN SUNIL': '42102',\n",
       " 'RAUT VAIBHAV ANIL': '42103',\n",
       " 'KURE RAMESHWAR': '42104',\n",
       " 'PANCHABHAI PRACHI PRASHANT': '42107',\n",
       " 'KANJWANI DINA PARMANAND': '42113',\n",
       " 'KHUDE PRAJKTA BHANUDAS': '42114',\n",
       " 'WAGHMARE AJAY KACHRU': '42118',\n",
       " 'MORE RAHUL DINKAR': '42119',\n",
       " 'BHASE AKANKSHA MANIK': '42122',\n",
       " 'KUNAL HARI KALE': '42123',\n",
       " 'KOMATE PRADNYA HEMREDDY': '42124',\n",
       " 'DHORE SUSHANT SHASHIKANT': '42134',\n",
       " 'THAKKA SACHIN KALLAPPA': '42138',\n",
       " 'KETAN DESHPANDE': '42147',\n",
       " 'SHANTANU SHINDE': '42149',\n",
       " 'CHORGI SUPRIYA MALLIKARJUN': '42156',\n",
       " 'PRITI SINGH': '42157',\n",
       " 'SAKHARE TEJAL ANKUSH': '42158',\n",
       " 'MANDEKAR NIKITA': '42160',\n",
       " 'DOSHI DISHA SUBHASH': '42166',\n",
       " 'PAWAR SIDDESH ANKUSH': '42167'}"
      ]
     },
     "execution_count": 19,
     "metadata": {},
     "output_type": "execute_result"
    }
   ],
   "source": [
    "BE_B_ABSENT"
   ]
  },
  {
   "cell_type": "code",
   "execution_count": null,
   "metadata": {},
   "outputs": [],
   "source": []
  }
 ],
 "metadata": {
  "kernelspec": {
   "display_name": "Python 3.7.3 64-bit",
   "language": "python",
   "name": "python37364bit7f799a5155e3410bb9e9d64c981b7df2"
  },
  "language_info": {
   "codemirror_mode": {
    "name": "ipython",
    "version": 3
   },
   "file_extension": ".py",
   "mimetype": "text/x-python",
   "name": "python",
   "nbconvert_exporter": "python",
   "pygments_lexer": "ipython3",
   "version": "3.7.3"
  }
 },
 "nbformat": 4,
 "nbformat_minor": 4
}
