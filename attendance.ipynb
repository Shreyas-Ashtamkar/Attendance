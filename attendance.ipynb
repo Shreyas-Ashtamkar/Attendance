{
 "cells": [
  {
   "cell_type": "code",
   "execution_count": 1,
   "metadata": {},
   "outputs": [],
   "source": [
    "# Globally Usable System Libraries\n",
    "from copy import deepcopy\n",
    "from os.path import exists\n",
    "\n",
    "#Self Created Libraries to Read Values and Compare Values.\n",
    "from myCSVOperations import readColumn\n",
    "from isSame import isSame\n",
    "\n",
    "#Self Created ictionaries Mapping the Roll Numbers to Names as per College Sheets\n",
    "from BE_A import BE_A\n",
    "from BE_B import BE_B"
   ]
  },
  {
   "cell_type": "code",
   "execution_count": 2,
   "metadata": {},
   "outputs": [],
   "source": [
    "#Pretty Printing Dicitionary\n",
    "def prettyPrint(data:dict):\n",
    "    print(\"_\"*40)\n",
    "    for val in data:\n",
    "        print(f'{val:30} ==> {data[val]}')"
   ]
  },
  {
   "cell_type": "code",
   "execution_count": 10,
   "metadata": {},
   "outputs": [],
   "source": [
    "def markAttendance(attendeeList:str = None):\n",
    "    #Read the Complete List of all the Students in the Meeting\n",
    "    if attendeeList == None:\n",
    "        print(\"No File Supplied. Usage:\\n\\n markAttendance(<filename>)\")\n",
    "    if not exists(attendeeList):\n",
    "        print(f\"File {attendeeList} Does not Exist..\")\n",
    "        return\n",
    "    \n",
    "    All_Students = readColumn(attendeeList, columnNo=1, skipRows=2)\n",
    "    \n",
    "    #Sorting It\n",
    "    All_Students.sort()\n",
    "    \n",
    "    print(f\"File Name : {attendeeList}\\nTotal Students Present : {len(All_Students)}\")\n",
    "\n",
    "    #Mark all students as Absent.\n",
    "    #If a Student is Present then Remove from the List\n",
    "    BE_A_ABSENT = deepcopy(BE_A)\n",
    "    BE_B_ABSENT = deepcopy(BE_B)\n",
    "\n",
    "    # All the Students who have Logged in from\n",
    "    # some other Account, as well as the Candidates Not in the Provided Lists.\n",
    "    BE_Unidentified = []\n",
    "    \n",
    "    def checkStudent(attendee:str, division:dict):\n",
    "        for student in division:\n",
    "            similarity = isSame(student, attendee)\n",
    "            if similarity == 'YES':\n",
    "                return student\n",
    "        \n",
    "        return \"NOTFOUND\"\n",
    "    \n",
    "    #Traverse through all the meeting Attendee Names\n",
    "    for presentStudent in All_Students:\n",
    "        #found flag to indicate if a student is already found in one class\n",
    "        found = False\n",
    "        \n",
    "        #Check every Student in Class A\n",
    "        student = checkStudent(presentStudent, BE_A)\n",
    "        if student != \"NOTFOUND\":\n",
    "            if student in BE_A_ABSENT:\n",
    "                BE_A_ABSENT.pop(student)\n",
    "            found = True\n",
    "        \n",
    "        #Check every Student in Class B\n",
    "        student = checkStudent(presentStudent, BE_B)\n",
    "        if student != \"NOTFOUND\":\n",
    "            if student in BE_B_ABSENT:\n",
    "                BE_B_ABSENT.pop(student)\n",
    "            found = True\n",
    "\n",
    "        if not found:\n",
    "            BE_Unidentified.append(presentStudent)\n",
    "    \n",
    "    \n",
    "    print(\"\\n\\n*************** ABSENT *****************\")\n",
    "    print(\"\\n                 BE A\")\n",
    "    prettyPrint(BE_A_ABSENT)\n",
    "    print(\"\\n\\n                 BE B\")\n",
    "    prettyPrint(BE_B_ABSENT)\n",
    "    \n",
    "    print(\"\\n\\n************ UNIDENTIFIED **************\\n\")\n",
    "\n",
    "    for stud in BE_Unidentified:\n",
    "        print(stud)"
   ]
  },
  {
   "cell_type": "code",
   "execution_count": 9,
   "metadata": {},
   "outputs": [
    {
     "name": "stdout",
     "output_type": "stream",
     "text": [
      "File Name : attendance.csv\n",
      "Total Students Present : 110\n",
      "\n",
      "\n",
      "*************** ABSENT *****************\n",
      "\n",
      "                 BE A\n",
      "________________________________________\n",
      "Bidisha Sarma                  ==> 42004\n",
      "Bendale Neha Deepak            ==> 42006\n",
      "Yemul Vivek Rayamallu          ==> 42009\n",
      "Shivam Bhat ( J & K )          ==> 42011\n",
      "Gokule Sanket Suresh           ==> 42012\n",
      "Lod Sagar Vinod                ==> 42013\n",
      "Rushikesh Vinod Patil          ==> 42014\n",
      "Harshal Unhale                 ==> 42015\n",
      "Patil Namita Arun              ==> 42017\n",
      "Kate Rohan Rajendra            ==> 42032\n",
      "Wadkar Aditi Nitin             ==> 42034\n",
      "Wavhal Aniket Bapu             ==> 42035\n",
      "Mehul Dilip Patel              ==> 42036\n",
      "Rutuja Devidas Malpure         ==> 42040\n",
      "Aniket Sunil Bandre            ==> 42041\n",
      "Siddhi Shingote                ==> 42045\n",
      "Korekar Sharad Sanjay          ==> 42047\n",
      "Gandhi Siddhant Anil           ==> 42048\n",
      "Jagate Samiksha Ravi           ==> 42049\n",
      "Ankit Patil                    ==> 42053\n",
      "Prashant Gonge                 ==> 42057\n",
      "Chavhan Pranali Yashvant       ==> 42059\n",
      "Jagtap Akash Sudhakar          ==> 42060\n",
      "Shivam Kumar                   ==> 42061\n",
      "Lohkare Shubham Govindrao      ==> 42062\n",
      "Surywanshi Roshni Shashikant   ==> 42065\n",
      "\n",
      "\n",
      "                 BE B\n",
      "________________________________________\n",
      "SHINDE ROHAN SUNIL             ==> 42102\n",
      "RAUT VAIBHAV ANIL              ==> 42103\n",
      "KURE RAMESHWAR                 ==> 42104\n",
      "KHUDE PRAJKTA BHANUDAS         ==> 42114\n",
      "WAGHMARE AJAY KACHRU           ==> 42118\n",
      "MORE RAHUL DINKAR              ==> 42119\n",
      "KOMATE PRADNYA HEMREDDY        ==> 42124\n",
      "DHORE SUSHANT SHASHIKANT       ==> 42134\n",
      "THAKKA SACHIN KALLAPPA         ==> 42138\n",
      "KETAN DESHPANDE                ==> 42147\n",
      "SHANTANU SHINDE                ==> 42149\n",
      "CHORGI SUPRIYA MALLIKARJUN     ==> 42156\n",
      "PRITI SINGH                    ==> 42157\n",
      "DOSHI DISHA SUBHASH            ==> 42166\n",
      "\n",
      "\n",
      "************ UNIDENTIFIED **************\n",
      "\n",
      "dhananjay indore\n",
      "minal sonawane\n",
      "nilesh baviskar\n",
      "prachi p\n",
      "pradnya komte\n",
      "prajakta khude\n",
      "pranali chavan\n",
      "shubham gharde\n",
      "siddhi shingite\n",
      "smriti kumari\n",
      "supriya choragi\n",
      "vaishali barkade\n",
      "yojana jagtap\n"
     ]
    }
   ],
   "source": [
    "markAttendance('attendance.csv')"
   ]
  },
  {
   "cell_type": "code",
   "execution_count": 8,
   "metadata": {},
   "outputs": [
    {
     "data": {
      "text/plain": [
       "134"
      ]
     },
     "execution_count": 8,
     "metadata": {},
     "output_type": "execute_result"
    }
   ],
   "source": [
    "len(BE_A) + len(BE_B)"
   ]
  },
  {
   "cell_type": "code",
   "execution_count": null,
   "metadata": {},
   "outputs": [],
   "source": []
  }
 ],
 "metadata": {
  "kernelspec": {
   "display_name": "Python 3.7.3 64-bit",
   "language": "python",
   "name": "python37364bit7f799a5155e3410bb9e9d64c981b7df2"
  },
  "language_info": {
   "codemirror_mode": {
    "name": "ipython",
    "version": 3
   },
   "file_extension": ".py",
   "mimetype": "text/x-python",
   "name": "python",
   "nbconvert_exporter": "python",
   "pygments_lexer": "ipython3",
   "version": "3.7.3"
  }
 },
 "nbformat": 4,
 "nbformat_minor": 4
}
